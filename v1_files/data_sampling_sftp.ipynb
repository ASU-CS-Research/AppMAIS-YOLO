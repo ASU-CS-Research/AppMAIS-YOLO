{
 "cells": [
  {
   "attachments": {},
   "cell_type": "markdown",
   "metadata": {},
   "source": [
    "# Sample datapoints remotely over SSH & SFTP"
   ]
  },
  {
   "cell_type": "code",
   "execution_count": 1,
   "metadata": {},
   "outputs": [
    {
     "name": "stderr",
     "output_type": "stream",
     "text": [
      "c:\\Users\\Thomas\\AppData\\Local\\Programs\\Python\\Python310\\lib\\site-packages\\paramiko\\transport.py:169: CryptographyDeprecationWarning: Blowfish has been deprecated\n",
      "  'class': algorithms.Blowfish,\n"
     ]
    }
   ],
   "source": [
    "import paramiko\n",
    "import os"
   ]
  },
  {
   "cell_type": "code",
   "execution_count": 13,
   "metadata": {},
   "outputs": [],
   "source": [
    "def sftp_file_exists(sftp, path) -> bool:\n",
    "    try:\n",
    "        sftp.stat(path)\n",
    "        return True\n",
    "    except:\n",
    "        return False"
   ]
  },
  {
   "cell_type": "code",
   "execution_count": 18,
   "metadata": {},
   "outputs": [
    {
     "name": "stdout",
     "output_type": "stream",
     "text": [
      "46/52: 2023-04-27\n",
      "47/52: 2023-04-26\n",
      "48/52: 2023-04-25\n",
      "49/52: 2023-04-24\n",
      "50/52: 2023-04-23\n",
      "51/52: 2023-04-22\n",
      "52/52: 2023-04-21\n"
     ]
    },
    {
     "ename": "FileNotFoundError",
     "evalue": "[Errno 2] No such file",
     "output_type": "error",
     "traceback": [
      "\u001b[1;31m---------------------------------------------------------------------------\u001b[0m",
      "\u001b[1;31mFileNotFoundError\u001b[0m                         Traceback (most recent call last)",
      "Cell \u001b[1;32mIn[18], line 73\u001b[0m\n\u001b[0;32m     71\u001b[0m sftp\u001b[39m.\u001b[39mget(video_csv,  os\u001b[39m.\u001b[39mpath\u001b[39m.\u001b[39mjoin(local_video_path, hive_name \u001b[39m+\u001b[39m \u001b[39m\"\u001b[39m\u001b[39m@\u001b[39m\u001b[39m\"\u001b[39m \u001b[39m+\u001b[39m day \u001b[39m+\u001b[39m \u001b[39m\"\u001b[39m\u001b[39m.csv\u001b[39m\u001b[39m\"\u001b[39m))\n\u001b[0;32m     72\u001b[0m sftp\u001b[39m.\u001b[39mget(point_one, os\u001b[39m.\u001b[39mpath\u001b[39m.\u001b[39mjoin(local_video_path, hive_name \u001b[39m+\u001b[39m \u001b[39m\"\u001b[39m\u001b[39m@\u001b[39m\u001b[39m\"\u001b[39m \u001b[39m+\u001b[39m day \u001b[39m+\u001b[39m \u001b[39m\"\u001b[39m\u001b[39m@09-00-00.h264\u001b[39m\u001b[39m\"\u001b[39m))\n\u001b[1;32m---> 73\u001b[0m sftp\u001b[39m.\u001b[39;49mget(point_two, os\u001b[39m.\u001b[39;49mpath\u001b[39m.\u001b[39;49mjoin(local_video_path, hive_name \u001b[39m+\u001b[39;49m \u001b[39m\"\u001b[39;49m\u001b[39m@\u001b[39;49m\u001b[39m\"\u001b[39;49m \u001b[39m+\u001b[39;49m day \u001b[39m+\u001b[39;49m \u001b[39m\"\u001b[39;49m\u001b[39m@11-00-00.h264\u001b[39;49m\u001b[39m\"\u001b[39;49m))\n\u001b[0;32m     74\u001b[0m sftp\u001b[39m.\u001b[39mget(point_three, os\u001b[39m.\u001b[39mpath\u001b[39m.\u001b[39mjoin(local_video_path, hive_name \u001b[39m+\u001b[39m \u001b[39m\"\u001b[39m\u001b[39m@\u001b[39m\u001b[39m\"\u001b[39m \u001b[39m+\u001b[39m day \u001b[39m+\u001b[39m \u001b[39m\"\u001b[39m\u001b[39m@13-00-00.h264\u001b[39m\u001b[39m\"\u001b[39m))\n\u001b[0;32m     75\u001b[0m sftp\u001b[39m.\u001b[39mget(point_four, os\u001b[39m.\u001b[39mpath\u001b[39m.\u001b[39mjoin(local_video_path, hive_name \u001b[39m+\u001b[39m \u001b[39m\"\u001b[39m\u001b[39m@\u001b[39m\u001b[39m\"\u001b[39m \u001b[39m+\u001b[39m day \u001b[39m+\u001b[39m \u001b[39m\"\u001b[39m\u001b[39m@15-00-00.h264\u001b[39m\u001b[39m\"\u001b[39m))\n",
      "File \u001b[1;32mc:\\Users\\Thomas\\AppData\\Local\\Programs\\Python\\Python310\\lib\\site-packages\\paramiko\\sftp_client.py:770\u001b[0m, in \u001b[0;36mSFTPClient.get\u001b[1;34m(self, remotepath, localpath, callback)\u001b[0m\n\u001b[0;32m    754\u001b[0m \u001b[39m\"\"\"\u001b[39;00m\n\u001b[0;32m    755\u001b[0m \u001b[39mCopy a remote file (``remotepath``) from the SFTP server to the local\u001b[39;00m\n\u001b[0;32m    756\u001b[0m \u001b[39mhost as ``localpath``.  Any exception raised by operations will be\u001b[39;00m\n\u001b[1;32m   (...)\u001b[0m\n\u001b[0;32m    767\u001b[0m \u001b[39m    Added the ``callback`` param\u001b[39;00m\n\u001b[0;32m    768\u001b[0m \u001b[39m\"\"\"\u001b[39;00m\n\u001b[0;32m    769\u001b[0m \u001b[39mwith\u001b[39;00m \u001b[39mopen\u001b[39m(localpath, \u001b[39m'\u001b[39m\u001b[39mwb\u001b[39m\u001b[39m'\u001b[39m) \u001b[39mas\u001b[39;00m fl:\n\u001b[1;32m--> 770\u001b[0m     size \u001b[39m=\u001b[39m \u001b[39mself\u001b[39;49m\u001b[39m.\u001b[39;49mgetfo(remotepath, fl, callback)\n\u001b[0;32m    771\u001b[0m s \u001b[39m=\u001b[39m os\u001b[39m.\u001b[39mstat(localpath)\n\u001b[0;32m    772\u001b[0m \u001b[39mif\u001b[39;00m s\u001b[39m.\u001b[39mst_size \u001b[39m!=\u001b[39m size:\n",
      "File \u001b[1;32mc:\\Users\\Thomas\\AppData\\Local\\Programs\\Python\\Python310\\lib\\site-packages\\paramiko\\sftp_client.py:746\u001b[0m, in \u001b[0;36mSFTPClient.getfo\u001b[1;34m(self, remotepath, fl, callback)\u001b[0m\n\u001b[0;32m    729\u001b[0m \u001b[39mdef\u001b[39;00m \u001b[39mgetfo\u001b[39m(\u001b[39mself\u001b[39m, remotepath, fl, callback\u001b[39m=\u001b[39m\u001b[39mNone\u001b[39;00m):\n\u001b[0;32m    730\u001b[0m     \u001b[39m\"\"\"\u001b[39;00m\n\u001b[0;32m    731\u001b[0m \u001b[39m    Copy a remote file (``remotepath``) from the SFTP server and write to\u001b[39;00m\n\u001b[0;32m    732\u001b[0m \u001b[39m    an open file or file-like object, ``fl``.  Any exception raised by\u001b[39;00m\n\u001b[1;32m   (...)\u001b[0m\n\u001b[0;32m    744\u001b[0m \u001b[39m    .. versionadded:: 1.10\u001b[39;00m\n\u001b[0;32m    745\u001b[0m \u001b[39m    \"\"\"\u001b[39;00m\n\u001b[1;32m--> 746\u001b[0m     file_size \u001b[39m=\u001b[39m \u001b[39mself\u001b[39;49m\u001b[39m.\u001b[39;49mstat(remotepath)\u001b[39m.\u001b[39mst_size\n\u001b[0;32m    747\u001b[0m     \u001b[39mwith\u001b[39;00m \u001b[39mself\u001b[39m\u001b[39m.\u001b[39mopen(remotepath, \u001b[39m'\u001b[39m\u001b[39mrb\u001b[39m\u001b[39m'\u001b[39m) \u001b[39mas\u001b[39;00m fr:\n\u001b[0;32m    748\u001b[0m         fr\u001b[39m.\u001b[39mprefetch(file_size)\n",
      "File \u001b[1;32mc:\\Users\\Thomas\\AppData\\Local\\Programs\\Python\\Python310\\lib\\site-packages\\paramiko\\sftp_client.py:460\u001b[0m, in \u001b[0;36mSFTPClient.stat\u001b[1;34m(self, path)\u001b[0m\n\u001b[0;32m    458\u001b[0m path \u001b[39m=\u001b[39m \u001b[39mself\u001b[39m\u001b[39m.\u001b[39m_adjust_cwd(path)\n\u001b[0;32m    459\u001b[0m \u001b[39mself\u001b[39m\u001b[39m.\u001b[39m_log(DEBUG, \u001b[39m'\u001b[39m\u001b[39mstat(\u001b[39m\u001b[39m{!r}\u001b[39;00m\u001b[39m)\u001b[39m\u001b[39m'\u001b[39m\u001b[39m.\u001b[39mformat(path))\n\u001b[1;32m--> 460\u001b[0m t, msg \u001b[39m=\u001b[39m \u001b[39mself\u001b[39;49m\u001b[39m.\u001b[39;49m_request(CMD_STAT, path)\n\u001b[0;32m    461\u001b[0m \u001b[39mif\u001b[39;00m t \u001b[39m!=\u001b[39m CMD_ATTRS:\n\u001b[0;32m    462\u001b[0m     \u001b[39mraise\u001b[39;00m SFTPError(\u001b[39m'\u001b[39m\u001b[39mExpected attributes\u001b[39m\u001b[39m'\u001b[39m)\n",
      "File \u001b[1;32mc:\\Users\\Thomas\\AppData\\Local\\Programs\\Python\\Python310\\lib\\site-packages\\paramiko\\sftp_client.py:780\u001b[0m, in \u001b[0;36mSFTPClient._request\u001b[1;34m(self, t, *arg)\u001b[0m\n\u001b[0;32m    778\u001b[0m \u001b[39mdef\u001b[39;00m \u001b[39m_request\u001b[39m(\u001b[39mself\u001b[39m, t, \u001b[39m*\u001b[39marg):\n\u001b[0;32m    779\u001b[0m     num \u001b[39m=\u001b[39m \u001b[39mself\u001b[39m\u001b[39m.\u001b[39m_async_request(\u001b[39mtype\u001b[39m(\u001b[39mNone\u001b[39;00m), t, \u001b[39m*\u001b[39marg)\n\u001b[1;32m--> 780\u001b[0m     \u001b[39mreturn\u001b[39;00m \u001b[39mself\u001b[39;49m\u001b[39m.\u001b[39;49m_read_response(num)\n",
      "File \u001b[1;32mc:\\Users\\Thomas\\AppData\\Local\\Programs\\Python\\Python310\\lib\\site-packages\\paramiko\\sftp_client.py:832\u001b[0m, in \u001b[0;36mSFTPClient._read_response\u001b[1;34m(self, waitfor)\u001b[0m\n\u001b[0;32m    829\u001b[0m \u001b[39mif\u001b[39;00m num \u001b[39m==\u001b[39m waitfor:\n\u001b[0;32m    830\u001b[0m     \u001b[39m# synchronous\u001b[39;00m\n\u001b[0;32m    831\u001b[0m     \u001b[39mif\u001b[39;00m t \u001b[39m==\u001b[39m CMD_STATUS:\n\u001b[1;32m--> 832\u001b[0m         \u001b[39mself\u001b[39;49m\u001b[39m.\u001b[39;49m_convert_status(msg)\n\u001b[0;32m    833\u001b[0m     \u001b[39mreturn\u001b[39;00m t, msg\n\u001b[0;32m    835\u001b[0m \u001b[39m# can not rewrite this to deal with E721, either as a None check\u001b[39;00m\n\u001b[0;32m    836\u001b[0m \u001b[39m# nor as not an instance of None or NoneType\u001b[39;00m\n",
      "File \u001b[1;32mc:\\Users\\Thomas\\AppData\\Local\\Programs\\Python\\Python310\\lib\\site-packages\\paramiko\\sftp_client.py:861\u001b[0m, in \u001b[0;36mSFTPClient._convert_status\u001b[1;34m(self, msg)\u001b[0m\n\u001b[0;32m    858\u001b[0m     \u001b[39mraise\u001b[39;00m \u001b[39mEOFError\u001b[39;00m(text)\n\u001b[0;32m    859\u001b[0m \u001b[39melif\u001b[39;00m code \u001b[39m==\u001b[39m SFTP_NO_SUCH_FILE:\n\u001b[0;32m    860\u001b[0m     \u001b[39m# clever idea from john a. meinel: map the error codes to errno\u001b[39;00m\n\u001b[1;32m--> 861\u001b[0m     \u001b[39mraise\u001b[39;00m \u001b[39mIOError\u001b[39;00m(errno\u001b[39m.\u001b[39mENOENT, text)\n\u001b[0;32m    862\u001b[0m \u001b[39melif\u001b[39;00m code \u001b[39m==\u001b[39m SFTP_PERMISSION_DENIED:\n\u001b[0;32m    863\u001b[0m     \u001b[39mraise\u001b[39;00m \u001b[39mIOError\u001b[39;00m(errno\u001b[39m.\u001b[39mEACCES, text)\n",
      "\u001b[1;31mFileNotFoundError\u001b[0m: [Errno 2] No such file"
     ]
    }
   ],
   "source": [
    "# SSH/SFTP connection details\n",
    "hive_name = 'AppMAIS14R'\n",
    "\n",
    "hostname = 'appmais.cs.appstate.edu'\n",
    "username = 'beemyguest1'\n",
    "password = '' # Enter password here\n",
    "\n",
    "remote_directory = '/home/beemyguest1/' + hive_name\n",
    "local_directory = \"D:\\\\Beemon\\\\\" + hive_name\n",
    "\n",
    "# Establish SSH connection\n",
    "ssh = paramiko.SSHClient()\n",
    "ssh.set_missing_host_key_policy(paramiko.AutoAddPolicy())\n",
    "ssh.connect(hostname, username=username, password=password)\n",
    "\n",
    "# Establish SFTP connection\n",
    "sftp = ssh.open_sftp()\n",
    "\n",
    "# Get a list of directories in the remote directory\n",
    "day_list = sftp.listdir(remote_directory)\n",
    "\n",
    "#print(day_list)\n",
    "\n",
    "# Copy directories to local machine\n",
    "for i in range(45, len(day_list)):\n",
    "    day = day_list[i]\n",
    "    print(f\"{i + 1}/{len(day_list)}: {day}\")\n",
    "    remote_day_path = remote_directory + \"/\" + day\n",
    "    remote_video_path = remote_day_path + \"/\" + 'video'\n",
    "    remote_temp_path = remote_day_path + \"/\" + 'temp'\n",
    "    remote_scale_path = remote_day_path + \"/\" + 'scale'\n",
    "\n",
    "    local_day_path = os.path.join(local_directory, day)\n",
    "    local_video_path = os.path.join(local_day_path, 'video')\n",
    "    local_temp_path = os.path.join(local_day_path, 'temp')\n",
    "    local_scale_path = os.path.join(local_day_path, 'scale')\n",
    "    \n",
    "    point_one = remote_video_path + \"/\" + hive_name + \"@\" + day + \"@09-00-00.h264\"\n",
    "    point_two = remote_video_path + \"/\" + hive_name + \"@\" + day + \"@11-00-00.h264\"\n",
    "    point_three = remote_video_path + \"/\" + hive_name + \"@\" + day + \"@13-00-00.h264\"\n",
    "    point_four = remote_video_path + \"/\" + hive_name + \"@\" + day + \"@15-00-00.h264\"\n",
    "    point_five = remote_video_path + \"/\" + hive_name + \"@\" + day + \"@17-00-00.h264\"\n",
    "    point_six = remote_video_path + \"/\" + hive_name + \"@\" + day + \"@19-00-00.h264\"\n",
    "    video_csv = remote_video_path + \"/\" + hive_name + \"@\" + day + \".csv\"\n",
    "    temp_csv = remote_temp_path + \"/\" + hive_name + \"@\" + day + \".csv\"\n",
    "    scale_csv = remote_scale_path + \"/\" + hive_name + \"@\" + day + \".csv\"\n",
    "    \n",
    "    if not os.path.exists(local_day_path):\n",
    "        os.mkdir(local_day_path)\n",
    "    if not os.path.exists(local_video_path):\n",
    "        os.mkdir(local_video_path)\n",
    "    if not os.path.exists(local_temp_path):\n",
    "        os.mkdir(local_temp_path)\n",
    "    if not os.path.exists(local_scale_path):\n",
    "        os.mkdir(local_scale_path)\n",
    "\n",
    "    #check if file exists on server\n",
    "    if not sftp_file_exists(sftp, point_one):\n",
    "        point_one = remote_video_path + \"/\" + hive_name + \"@\" + day + \"@09-05-00.h264\"\n",
    "    if not sftp_file_exists(sftp, point_two):\n",
    "        point_two = remote_video_path + \"/\" + hive_name + \"@\" + day + \"@11-05-00.h264\"\n",
    "    if not sftp_file_exists(sftp, point_three):\n",
    "        point_three = remote_video_path + \"/\" + hive_name + \"@\" + day + \"@13-05-00.h264\"\n",
    "    if not sftp_file_exists(sftp, point_four):\n",
    "        point_four = remote_video_path + \"/\" + hive_name + \"@\" + day + \"@15-05-00.h264\"\n",
    "    if not sftp_file_exists(sftp, point_five):\n",
    "        point_five = remote_video_path + \"/\" + hive_name + \"@\" + day + \"@17-05-00.h264\"\n",
    "    if not sftp_file_exists(sftp, point_six):\n",
    "        point_six = remote_video_path + \"/\" + hive_name + \"@\" + day + \"@19-05-00.h264\"\n",
    "\n",
    "    sftp.get(video_csv,  os.path.join(local_video_path, hive_name + \"@\" + day + \".csv\"))\n",
    "    sftp.get(point_one, os.path.join(local_video_path, hive_name + \"@\" + day + \"@09-00-00.h264\"))\n",
    "    sftp.get(point_two, os.path.join(local_video_path, hive_name + \"@\" + day + \"@11-00-00.h264\"))\n",
    "    sftp.get(point_three, os.path.join(local_video_path, hive_name + \"@\" + day + \"@13-00-00.h264\"))\n",
    "    sftp.get(point_four, os.path.join(local_video_path, hive_name + \"@\" + day + \"@15-00-00.h264\"))\n",
    "    sftp.get(point_five, os.path.join(local_video_path, hive_name + \"@\" + day + \"@17-00-00.h264\"))\n",
    "    sftp.get(point_six, os.path.join(local_video_path, hive_name + \"@\" + day + \"@19-00-00.h264\"))\n",
    "    sftp.get(temp_csv, os.path.join(local_temp_path, hive_name + \"@\" + day + \".csv\"))\n",
    "    sftp.get(scale_csv, os.path.join(local_scale_path, hive_name + \"@\" + day + \".csv\"))\n",
    "\n",
    "# Close SFTP and SSH connections\n",
    "sftp.close()\n",
    "ssh.close()"
   ]
  }
 ],
 "metadata": {
  "kernelspec": {
   "display_name": "Python 3",
   "language": "python",
   "name": "python3"
  },
  "language_info": {
   "codemirror_mode": {
    "name": "ipython",
    "version": 3
   },
   "file_extension": ".py",
   "mimetype": "text/x-python",
   "name": "python",
   "nbconvert_exporter": "python",
   "pygments_lexer": "ipython3",
   "version": "3.10.4"
  },
  "orig_nbformat": 4
 },
 "nbformat": 4,
 "nbformat_minor": 2
}
